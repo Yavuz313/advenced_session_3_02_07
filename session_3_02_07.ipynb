{
 "cells": [
  {
   "cell_type": "markdown",
   "metadata": {},
   "source": [
    "liste_1 = [4,5,6,9,85,23,65,47,32,91] listenin en küçük ve en büyük elemanını min ve max fpnksiyonu kullanmadan bulun. sort fonk da kullanmayın. while ile min değeri for ile max değeri bulun."
   ]
  },
  {
   "cell_type": "code",
   "execution_count": 14,
   "metadata": {},
   "outputs": [
    {
     "name": "stdout",
     "output_type": "stream",
     "text": [
      "4\n"
     ]
    }
   ],
   "source": [
    "liste_1 = [4,5,6,9,85,23,65,47,32,91]\n",
    "\n",
    "x = 0\n",
    "\n",
    "min_deger = liste_1[0]\n",
    "i = 0\n",
    "while i < len(liste_1):\n",
    "    if liste_1[i] < min_deger:\n",
    "        min_deger = liste_1[i]\n",
    "    i += 1     \n",
    "print(min_sayi)"
   ]
  },
  {
   "cell_type": "code",
   "execution_count": 16,
   "metadata": {},
   "outputs": [
    {
     "name": "stdout",
     "output_type": "stream",
     "text": [
      "91\n"
     ]
    }
   ],
   "source": [
    "liste_1 = [4,5,6,9,85,23,65,47,32,91]\n",
    "\n",
    "max_sayi = liste_1[0]\n",
    "\n",
    "for i in liste_1:\n",
    "\n",
    "    if max_sayi < i:\n",
    "        max_sayi = i\n",
    "print(max_sayi)\n"
   ]
  },
  {
   "cell_type": "code",
   "execution_count": 31,
   "metadata": {},
   "outputs": [
    {
     "data": {
      "text/plain": [
       "{'name': 'Hakan', 'age': 32, 'job': 'datascientist'}"
      ]
     },
     "execution_count": 31,
     "metadata": {},
     "output_type": "execute_result"
    }
   ],
   "source": [
    "dict_1 = {\"name\":\"Hakan\", \"age\":32, \"job\":\"datascientist\"}\n",
    "dict_1"
   ]
  },
  {
   "cell_type": "code",
   "execution_count": 19,
   "metadata": {},
   "outputs": [
    {
     "name": "stdout",
     "output_type": "stream",
     "text": [
      "name\n",
      "age\n",
      "job\n"
     ]
    }
   ],
   "source": [
    "for i in dict_1:\n",
    "    print(i)"
   ]
  },
  {
   "cell_type": "code",
   "execution_count": 20,
   "metadata": {},
   "outputs": [
    {
     "name": "stdout",
     "output_type": "stream",
     "text": [
      "('name', 'Hakan')\n",
      "('age', 32)\n",
      "('job', 'data scientist')\n"
     ]
    }
   ],
   "source": [
    "for i in dict_1.items():\n",
    "    print(i)"
   ]
  },
  {
   "cell_type": "code",
   "execution_count": 21,
   "metadata": {},
   "outputs": [
    {
     "name": "stdout",
     "output_type": "stream",
     "text": [
      "Hakan\n",
      "32\n",
      "data scientist\n"
     ]
    }
   ],
   "source": [
    "for i in dict_1.values():\n",
    "    print(i)"
   ]
  },
  {
   "cell_type": "code",
   "execution_count": 24,
   "metadata": {},
   "outputs": [
    {
     "name": "stdout",
     "output_type": "stream",
     "text": [
      "key:name, values:Hakan\n",
      "key:age, values:32\n",
      "key:job, values:data scientist\n"
     ]
    }
   ],
   "source": [
    "for i, j in dict_1.items(): # key leri i degiskenine atar, values j degiskenine atanir\n",
    "    print(f\"key:{i}, values:{j}\")"
   ]
  },
  {
   "cell_type": "code",
   "execution_count": 27,
   "metadata": {},
   "outputs": [
    {
     "name": "stdout",
     "output_type": "stream",
     "text": [
      "key:name      , values:Hakan\n",
      "key:age       , values:32\n",
      "key:job       , values:data scientist\n"
     ]
    }
   ],
   "source": [
    "for i, j in dict_1.items(): \n",
    "    print(f\"key:{i:<10}, values:{j}\") # {i:<10} 10 bosluk birakir arada"
   ]
  },
  {
   "cell_type": "code",
   "execution_count": 28,
   "metadata": {},
   "outputs": [
    {
     "name": "stdout",
     "output_type": "stream",
     "text": [
      "key:      name, values:Hakan\n",
      "key:       age, values:32\n",
      "key:       job, values:data scientist\n"
     ]
    }
   ],
   "source": [
    "for i, j in dict_1.items():\n",
    "    print(f\"key:{i:>10}, values:{j}\") "
   ]
  },
  {
   "cell_type": "code",
   "execution_count": 32,
   "metadata": {},
   "outputs": [
    {
     "name": "stdout",
     "output_type": "stream",
     "text": [
      "key:name    , values:     Hakan     \n",
      "key:age     , values:      32       \n",
      "key:job     , values: datascientist \n"
     ]
    }
   ],
   "source": [
    "for i, j in dict_1.items():\n",
    "    print(f\"key:{i:<8}, values:{j:^15}\") "
   ]
  },
  {
   "cell_type": "code",
   "execution_count": 33,
   "metadata": {},
   "outputs": [
    {
     "data": {
      "text/plain": [
       "'      techpro       '"
      ]
     },
     "execution_count": 33,
     "metadata": {},
     "output_type": "execute_result"
    }
   ],
   "source": [
    "\"techpro\".center(20)"
   ]
  },
  {
   "cell_type": "code",
   "execution_count": 35,
   "metadata": {},
   "outputs": [
    {
     "data": {
      "text/plain": [
       "'techpro             '"
      ]
     },
     "execution_count": 35,
     "metadata": {},
     "output_type": "execute_result"
    }
   ],
   "source": [
    "\"techpro\".ljust(20)"
   ]
  },
  {
   "cell_type": "code",
   "execution_count": 36,
   "metadata": {},
   "outputs": [
    {
     "data": {
      "text/plain": [
       "'             techpro'"
      ]
     },
     "execution_count": 36,
     "metadata": {},
     "output_type": "execute_result"
    }
   ],
   "source": [
    "\"techpro\".rjust(20)"
   ]
  },
  {
   "cell_type": "code",
   "execution_count": null,
   "metadata": {},
   "outputs": [],
   "source": [
    "# sonsuza gider\n",
    "\n",
    "liste_2 = [\"sonsuza gider mi\"]\n",
    "\n",
    "for i in liste_2:\n",
    "    print(i)\n",
    "    liste_2.append(\"sonsuza gider mi\")"
   ]
  },
  {
   "cell_type": "markdown",
   "metadata": {},
   "source": [
    "1 den 50 ye kadar(50 dahil) sayilarin toplamini bulan kodu ya"
   ]
  },
  {
   "cell_type": "code",
   "execution_count": 40,
   "metadata": {},
   "outputs": [
    {
     "name": "stdout",
     "output_type": "stream",
     "text": [
      "1275\n"
     ]
    }
   ],
   "source": [
    "sayi = 0\n",
    "\n",
    "for i in range(1, 51):\n",
    "    sayi += i\n",
    "print(sayi)\n"
   ]
  },
  {
   "cell_type": "code",
   "execution_count": 46,
   "metadata": {},
   "outputs": [],
   "source": [
    "total_sum_while_loop = 0\n",
    "number = 1\n",
    "\n",
    "while number <= 50:\n",
    "    total_sum_while_loop += number\n",
    "    number += 1"
   ]
  },
  {
   "cell_type": "code",
   "execution_count": 47,
   "metadata": {},
   "outputs": [
    {
     "data": {
      "text/plain": [
       "15"
      ]
     },
     "execution_count": 47,
     "metadata": {},
     "output_type": "execute_result"
    }
   ],
   "source": [
    "sum([1,2,3,4,5])"
   ]
  },
  {
   "cell_type": "code",
   "execution_count": 51,
   "metadata": {},
   "outputs": [
    {
     "data": {
      "text/plain": [
       "1274"
      ]
     },
     "execution_count": 51,
     "metadata": {},
     "output_type": "execute_result"
    }
   ],
   "source": [
    "sum(range(1,51))"
   ]
  },
  {
   "cell_type": "markdown",
   "metadata": {},
   "source": [
    "1 den 50 ye kadar(50 dahil) cift sayilarin toplamini bulan kodu ya"
   ]
  },
  {
   "cell_type": "code",
   "execution_count": 60,
   "metadata": {},
   "outputs": [
    {
     "name": "stdout",
     "output_type": "stream",
     "text": [
      "650\n"
     ]
    }
   ],
   "source": [
    "sayi = 0\n",
    "\n",
    "for i in range(1, 51):\n",
    "    \n",
    "    if i % 2 ==0:\n",
    "        sayi += i\n",
    "    \n",
    "print(sayi)"
   ]
  },
  {
   "cell_type": "markdown",
   "metadata": {},
   "source": [
    "## break, continue"
   ]
  },
  {
   "cell_type": "code",
   "execution_count": 61,
   "metadata": {},
   "outputs": [
    {
     "data": {
      "text/plain": [
       "[1, 2, 3, 4, 5]"
      ]
     },
     "execution_count": 61,
     "metadata": {},
     "output_type": "execute_result"
    }
   ],
   "source": [
    "liste_3 = [1,2,3,4,5]\n",
    "liste_3"
   ]
  },
  {
   "cell_type": "code",
   "execution_count": 62,
   "metadata": {},
   "outputs": [
    {
     "name": "stdout",
     "output_type": "stream",
     "text": [
      "1\n",
      "4\n"
     ]
    }
   ],
   "source": [
    "# 3 ve 3 un kati olan sayiya denk geldiginde dongu bitsin, diger durumda sayilarin karesini gosterin\n",
    "\n",
    "for i in liste_3:\n",
    "    \n",
    "    if i % 3 == 0:\n",
    "        break\n",
    "    \n",
    "    print(i ** 2)\n"
   ]
  },
  {
   "cell_type": "code",
   "execution_count": 63,
   "metadata": {},
   "outputs": [
    {
     "name": "stdout",
     "output_type": "stream",
     "text": [
      "1\n",
      "4\n",
      "16\n",
      "25\n"
     ]
    }
   ],
   "source": [
    "# 3 ve 3 un kati olan sayiya denk geldiginde dongu islem yapmadan devam etsin,diger durumda sayilarin karesini gosterin\n",
    "\n",
    "for i in liste_3:\n",
    "    \n",
    "    if i % 3 == 0:\n",
    "        continue\n",
    "    \n",
    "    print(i ** 2)"
   ]
  },
  {
   "cell_type": "markdown",
   "metadata": {},
   "source": [
    "1 den 50 ye kadar(50 dahil) cift sayilarin toplamini continue kullanarak yazin"
   ]
  },
  {
   "cell_type": "code",
   "execution_count": 64,
   "metadata": {},
   "outputs": [
    {
     "name": "stdout",
     "output_type": "stream",
     "text": [
      "625\n"
     ]
    }
   ],
   "source": [
    "sayi = 0\n",
    "\n",
    "for i in range(1, 51):\n",
    "    \n",
    "    if i % 2 == 0:\n",
    "        continue\n",
    "    sayi += i\n",
    "print(sayi)"
   ]
  },
  {
   "cell_type": "markdown",
   "metadata": {},
   "source": [
    "## zip()"
   ]
  },
  {
   "cell_type": "code",
   "execution_count": 66,
   "metadata": {},
   "outputs": [],
   "source": [
    "a= [\"apple\",\"orange\",\"lemon\"]\n",
    "b = [1,2,3]"
   ]
  },
  {
   "cell_type": "code",
   "execution_count": 67,
   "metadata": {},
   "outputs": [
    {
     "data": {
      "text/plain": [
       "<zip at 0x1b01c312e00>"
      ]
     },
     "execution_count": 67,
     "metadata": {},
     "output_type": "execute_result"
    }
   ],
   "source": [
    "zip(a,b)"
   ]
  },
  {
   "cell_type": "code",
   "execution_count": 68,
   "metadata": {},
   "outputs": [
    {
     "data": {
      "text/plain": [
       "[('apple', 1), ('orange', 2), ('lemon', 3)]"
      ]
     },
     "execution_count": 68,
     "metadata": {},
     "output_type": "execute_result"
    }
   ],
   "source": [
    "list(zip(a,b)) #ayni index degerindekileri bir biri ile eslestirdi"
   ]
  },
  {
   "cell_type": "code",
   "execution_count": 70,
   "metadata": {},
   "outputs": [
    {
     "data": {
      "text/plain": [
       "((1, 'apple'), (2, 'orange'), (3, 'lemon'))"
      ]
     },
     "execution_count": 70,
     "metadata": {},
     "output_type": "execute_result"
    }
   ],
   "source": [
    "tuple(zip(b,a))"
   ]
  },
  {
   "cell_type": "code",
   "execution_count": 71,
   "metadata": {},
   "outputs": [
    {
     "data": {
      "text/plain": [
       "{'apple': 1, 'orange': 2, 'lemon': 3}"
      ]
     },
     "execution_count": 71,
     "metadata": {},
     "output_type": "execute_result"
    }
   ],
   "source": [
    "dict(zip(a,b))"
   ]
  },
  {
   "cell_type": "code",
   "execution_count": 73,
   "metadata": {},
   "outputs": [
    {
     "data": {
      "text/plain": [
       "{('apple', 1), ('lemon', 3), ('orange', 2)}"
      ]
     },
     "execution_count": 73,
     "metadata": {},
     "output_type": "execute_result"
    }
   ],
   "source": [
    "set(zip(a,b))"
   ]
  },
  {
   "cell_type": "code",
   "execution_count": 74,
   "metadata": {},
   "outputs": [],
   "source": [
    "x = \"techpro\"\n",
    "y = \"Yasin\"\n",
    "z = \"Ali\""
   ]
  },
  {
   "cell_type": "code",
   "execution_count": 75,
   "metadata": {},
   "outputs": [
    {
     "data": {
      "text/plain": [
       "[('t', 'Y', 'A'), ('e', 'a', 'l'), ('c', 's', 'i')]"
      ]
     },
     "execution_count": 75,
     "metadata": {},
     "output_type": "execute_result"
    }
   ],
   "source": [
    "list(zip(x,y,z)) # eleman sayisi ayni degilse en kucuk olani referans alir"
   ]
  },
  {
   "cell_type": "code",
   "execution_count": 76,
   "metadata": {},
   "outputs": [],
   "source": [
    "name = [\"Ferdi\",\"Ali\",\"Dilay\"]\n",
    "age = [35,34,12]\n",
    "job = [\"data scientist\",\"data analyst\",\"pyhton developer\"]"
   ]
  },
  {
   "cell_type": "code",
   "execution_count": 77,
   "metadata": {},
   "outputs": [
    {
     "data": {
      "text/plain": [
       "[('Ferdi', 35, 'data scientist'),\n",
       " ('Ali', 34, 'data analyst'),\n",
       " ('Dilay', 12, 'pyhton developer')]"
      ]
     },
     "execution_count": 77,
     "metadata": {},
     "output_type": "execute_result"
    }
   ],
   "source": [
    "list(zip(name, age, job))"
   ]
  },
  {
   "cell_type": "code",
   "execution_count": 78,
   "metadata": {},
   "outputs": [],
   "source": [
    "meyveler = [\"apple\",\"orange\",\"apple\"]\n",
    "adet = [1,2,3,]"
   ]
  },
  {
   "cell_type": "code",
   "execution_count": 79,
   "metadata": {},
   "outputs": [
    {
     "data": {
      "text/plain": [
       "{'apple': 3, 'orange': 2}"
      ]
     },
     "execution_count": 79,
     "metadata": {},
     "output_type": "execute_result"
    }
   ],
   "source": [
    "dict(zip(meyveler, adet))"
   ]
  },
  {
   "cell_type": "code",
   "execution_count": 80,
   "metadata": {},
   "outputs": [
    {
     "data": {
      "text/plain": [
       "[('Ferdi', 35, 'data scientist'),\n",
       " ('Ali', 34, 'data analyst'),\n",
       " ('Dilay', 12, 'pyhton developer')]"
      ]
     },
     "execution_count": 80,
     "metadata": {},
     "output_type": "execute_result"
    }
   ],
   "source": [
    "list(zip(name, age, job))"
   ]
  },
  {
   "cell_type": "code",
   "execution_count": 83,
   "metadata": {},
   "outputs": [
    {
     "name": "stdout",
     "output_type": "stream",
     "text": [
      "name:Ferdi , age:35 , job:data scientist \n",
      "name:Ali   , age:34 , job:data analyst   \n",
      "name:Dilay , age:12 , job:pyhton developer\n"
     ]
    }
   ],
   "source": [
    "for i, j, k in zip(name,age,job):\n",
    "    print(f\"name:{i:<6}, age:{j:<3}, job:{k:<15}\")"
   ]
  },
  {
   "cell_type": "code",
   "execution_count": null,
   "metadata": {},
   "outputs": [],
   "source": []
  }
 ],
 "metadata": {
  "kernelspec": {
   "display_name": "Python 3",
   "language": "python",
   "name": "python3"
  },
  "language_info": {
   "codemirror_mode": {
    "name": "ipython",
    "version": 3
   },
   "file_extension": ".py",
   "mimetype": "text/x-python",
   "name": "python",
   "nbconvert_exporter": "python",
   "pygments_lexer": "ipython3",
   "version": "3.12.3"
  }
 },
 "nbformat": 4,
 "nbformat_minor": 2
}
